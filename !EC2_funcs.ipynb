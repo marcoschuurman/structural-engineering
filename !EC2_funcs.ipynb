{
 "cells": [
  {
   "cell_type": "code",
   "execution_count": 1,
   "metadata": {},
   "outputs": [],
   "source": [
    "import scipy.integrate as integrate"
   ]
  },
  {
   "cell_type": "markdown",
   "metadata": {},
   "source": [
    "#### Berekenen momentcapaciteit [kNm]:"
   ]
  },
  {
   "cell_type": "code",
   "execution_count": 1,
   "metadata": {},
   "outputs": [],
   "source": [
    "def calc_M_Rd(f_cd,f_yd,b,h,A_s):\n",
    "    d = h - a\n",
    "    rho_1 = A_s / (b * h)\n",
    "    x_u = (rho_1 / alpha) * (f_yd/f_cd) * d\n",
    "    z = d - beta * x_u\n",
    "    M_Rd = z * f_yd * A_s / 1e6\n",
    "    \n",
    "    return M_Rd, z"
   ]
  },
  {
   "cell_type": "markdown",
   "metadata": {},
   "source": [
    "#### Berekenen dwarskrachtcapaciteit [MPa]:"
   ]
  },
  {
   "cell_type": "code",
   "execution_count": null,
   "metadata": {},
   "outputs": [],
   "source": [
    "def v_Rdc(d, rho_1, f_ck, sigma_cp): # d [mm] / rho_1 [%] / f_ck [MPa] / sigma_cp [MPa]\n",
    "    C_Rdc = 0.18 / g_c\n",
    "    k1 = 0.15\n",
    "    rho_1 = rho_1 / 100\n",
    "    k = min(1 + (200/d)**0.5,2)\n",
    "    \n",
    "    v_Rdc1 = C_Rdc * k * (100 * rho_1 * f_ck)**(1/3) + k1 * sigma_cp\n",
    "    v_Rdc2 = 0.035 * k**(3/2) * f_ck**(1/2) + k1 * sigma_cp\n",
    "    \n",
    "    v_Rdc = max(v_Rdc1, v_Rdc2)\n",
    "    return v_Rdc"
   ]
  },
  {
   "cell_type": "markdown",
   "metadata": {},
   "source": [
    "#### Bereken rek- en spanningsverloop op basis van rekken in uitertse vezels:"
   ]
  },
  {
   "cell_type": "code",
   "execution_count": 1,
   "metadata": {},
   "outputs": [],
   "source": [
    "def eps(z, e1, e2):\n",
    "    return (e2 - e1) / h * z + e1\n",
    "\n",
    "def func_Nb(z, e1, e2, f_cd):\n",
    "    return b * sig_c(z, e1, e2, f_cd)\n",
    "\n",
    "def func_zb(z, e1, e2, f_cd):\n",
    "    return z * func_Nb(z, e1, e2, f_cd)\n",
    "\n",
    "def sig_c(z, e1, e2, f_cd):\n",
    "    if eps(z, e1, e2) > 0:\n",
    "        s = 0\n",
    "    elif eps(z, e1, e2) < 0 and eps(z, e1, e2) > eps_c_el:\n",
    "        s = eps(z, e1, e2) / eps_c_el * -f_cd\n",
    "    else:\n",
    "        s = -f_cd\n",
    "\n",
    "    return s"
   ]
  },
  {
   "cell_type": "code",
   "execution_count": null,
   "metadata": {},
   "outputs": [],
   "source": [
    "def sig_c_bak(z, e1, e2, f_cd):\n",
    "    sig = []\n",
    "    for i in range(len(z)):\n",
    "        if eps(z[i], e1, e2) > 0:\n",
    "            sig = np.append(sig, 0)\n",
    "        elif eps(z[i], e1, e2) < 0 and eps(z[i], e1, e2) > eps_c_el:\n",
    "            sig =np.append(sig, eps(z[i], e1, e2) / eps_c_el * -f_cd)\n",
    "        else:\n",
    "            sig = np.append(sig, -f_cd)\n",
    "    return sig"
   ]
  },
  {
   "cell_type": "markdown",
   "metadata": {},
   "source": [
    "#### Berekening interne en externe snedekrachten op basis van rekken:"
   ]
  },
  {
   "cell_type": "code",
   "execution_count": 61,
   "metadata": {},
   "outputs": [],
   "source": [
    "def MN_int(e1, e2):\n",
    "    N_b = integrate.quad(func_Nb, 0, h, args=(e1,e2,f_cd))[0]\n",
    "    if N_b == 0:\n",
    "        z_b = 0.5 * h\n",
    "    else:\n",
    "        z_b = integrate.quad(func_zb, 0, h, args=(e1,e2,f_cd))[0] / N_b\n",
    "    \n",
    "    N_b = N_b / 10**3\n",
    "    \n",
    "    eps_s1 = eps(ys1, e1, e2)\n",
    "    eps_s2 = eps(ys2, e1, e2)\n",
    "    N_s1 = eps_s1 * E_sd(eps_s1) * As1 / 10**3 # [kN]\n",
    "    N_s2 = eps_s2 * E_sd(eps_s2) * As2 / 10**3 # [kN]\n",
    "    return [N_b, z_b, N_s1, N_s2]\n",
    "\n",
    "def MN_ext(eps_1, eps_2):\n",
    "    kappa = (eps_2 - eps_1) / (h / 10**3)\n",
    "    [N_b, z_b, N_s1, N_s2] = MN_int(eps_1, eps_2)\n",
    "    N_res = N_b + N_s1 + N_s2\n",
    "    e_res = (N_b * z_b + N_s1 * ys1 + N_s2 * ys2) / N_res - 0.5 * h\n",
    "    M_res = e_res / 10**3 * N_res\n",
    "    res = [N_res, e_res, M_res, kappa]\n",
    "\n",
    "    return res"
   ]
  },
  {
   "cell_type": "markdown",
   "metadata": {},
   "source": [
    "#### Capaciteitscurve"
   ]
  },
  {
   "cell_type": "code",
   "execution_count": 2,
   "metadata": {},
   "outputs": [],
   "source": [
    "def MNCapCurve(b, h, ys1, As1, ys2, As2, n): # Respectievelijk breedte / hoogte / staafafstand zijde 1 / wapeningsopp zijde 1 / staafafstand zijde 2 /  wapeningsopp zijde 2 / stappen per curvedeel\n",
    "    A_c = b * h\n",
    "    ys1 = as1 # [mm]\n",
    "    ys2 = h - as2 # [mm]\n",
    "    \n",
    "    # Plastische capaciteit\n",
    "    eps_1_s_el = eps_c_pl + h / (h - ys1) * (eps_s_el - eps_c_pl)\n",
    "    eps_1_s_pl = eps_c_pl + h / (h - ys1) * (eps_s_pl - eps_c_pl)\n",
    "    eps_2_s_el = eps_c_pl + h / ys2 * (eps_s_el - eps_c_pl)\n",
    "    eps_2_s_pl = eps_c_pl + h / ys2 * (eps_s_pl - eps_c_pl)\n",
    "\n",
    "    eps_1_stps = [eps_c_pl, 0, eps_1_s_el, eps_1_s_pl, eps_s_el, eps_c_pl, eps_c_pl, eps_c_pl, eps_c_pl]\n",
    "    eps_2_stps = [eps_c_pl, eps_c_pl, eps_c_pl, eps_c_pl, eps_s_el, eps_2_s_pl, eps_2_s_el, 0, eps_c_pl]\n",
    "\n",
    "    eps_1 = add_steps(n, eps_1_stps)\n",
    "    eps_2 = add_steps(n, eps_2_stps)\n",
    "\n",
    "    N_Rd = []\n",
    "    e_M = []\n",
    "    M_Rd = []\n",
    "    kappa = []\n",
    "\n",
    "    for i in range(len(eps_1)):\n",
    "        N_Rd = np.append(N_Rd, MN_ext(eps_1[i], eps_2[i])[0])\n",
    "        e_M = np.append(e_M, MN_ext(eps_1[i], eps_2[i])[1])\n",
    "        M_Rd = np.append(M_Rd, MN_ext(eps_1[i], eps_2[i])[2])\n",
    "        kappa = np.append(kappa, MN_ext(eps_1[i], eps_2[i])[3])\n",
    "    \n",
    "    # Elastische capaciteit\n",
    "    eps_1_s_el = eps_c_el + h / (h - ys1) * (eps_s_el - eps_c_el)\n",
    "    eps_2_s_el = eps_c_el + h / ys2 * (eps_s_el - eps_c_el)\n",
    "\n",
    "    eps_1_stps = [eps_c_el, 0, eps_1_s_el, eps_s_el, eps_c_el, eps_c_el, eps_c_el]\n",
    "    eps_2_stps = [eps_c_el, eps_c_el, eps_c_el, eps_s_el, eps_2_s_el, 0, eps_c_el]\n",
    "\n",
    "    eps_1 = add_steps(n, eps_1_stps)\n",
    "    eps_2 = add_steps(n, eps_2_stps)\n",
    "\n",
    "    N_Rd_el = []\n",
    "    e_M_el = []\n",
    "    M_Rd_el = []\n",
    "    kappa_el = []\n",
    "\n",
    "    for i in range(len(eps_1)):\n",
    "        N_Rd_el = np.append(N_Rd_el, MN_ext(eps_1[i], eps_2[i])[0])\n",
    "        e_M_el = np.append(e_M_el, MN_ext(eps_1[i], eps_2[i])[1])\n",
    "        M_Rd_el = np.append(M_Rd_el, MN_ext(eps_1[i], eps_2[i])[2])\n",
    "        kappa_el = np.append(kappa_el, MN_ext(eps_1[i], eps_2[i])[3])\n",
    "    \n",
    "    return N_Rd, M_Rd, N_Rd_el, M_Rd_el"
   ]
  },
  {
   "cell_type": "markdown",
   "metadata": {},
   "source": [
    "#### Bepalen snijpunt van 2 functies (algemeen):"
   ]
  },
  {
   "cell_type": "code",
   "execution_count": 4,
   "metadata": {},
   "outputs": [],
   "source": [
    "def find_roots(x,y):\n",
    "    s = np.abs(np.diff(np.sign(y))).astype(bool)\n",
    "    return x[:-1][s] + np.diff(x)[s]/(np.abs(y[1:][s]/y[:-1][s])+1)"
   ]
  },
  {
   "cell_type": "markdown",
   "metadata": {},
   "source": [
    "#### Zoeken naar oplossing voor meerdere vergelijkingen:"
   ]
  },
  {
   "cell_type": "code",
   "execution_count": 64,
   "metadata": {},
   "outputs": [],
   "source": [
    "def equations(p):\n",
    "    x, y = p\n",
    "    return (MN_ext(x,y)[0] - N_Ed, MN_ext(x,y)[2] - M_Ed)"
   ]
  },
  {
   "cell_type": "markdown",
   "metadata": {},
   "source": [
    "#### Vergroot resolutie array:"
   ]
  },
  {
   "cell_type": "code",
   "execution_count": 67,
   "metadata": {},
   "outputs": [],
   "source": [
    "def add_steps(n, arr):\n",
    "    i = 0\n",
    "    arr_new = []\n",
    "    while i < len(arr) - 1:\n",
    "        d_a = arr[i+1] - arr[i]\n",
    "        a = np.linspace(arr[i], arr[i+1], n + 1)\n",
    "        if i > 0:\n",
    "            a = a[1:]\n",
    "        arr_new = np.append(arr_new,a)            \n",
    "        #print(a)\n",
    "        i += 1\n",
    "\n",
    "    return arr_new"
   ]
  },
  {
   "cell_type": "code",
   "execution_count": null,
   "metadata": {},
   "outputs": [],
   "source": []
  }
 ],
 "metadata": {
  "kernelspec": {
   "display_name": "Python 3",
   "language": "python",
   "name": "python3"
  },
  "language_info": {
   "codemirror_mode": {
    "name": "ipython",
    "version": 3
   },
   "file_extension": ".py",
   "mimetype": "text/x-python",
   "name": "python",
   "nbconvert_exporter": "python",
   "pygments_lexer": "ipython3",
   "version": "3.7.7"
  }
 },
 "nbformat": 4,
 "nbformat_minor": 4
}
