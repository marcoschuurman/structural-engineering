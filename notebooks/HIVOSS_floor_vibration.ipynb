{
 "cells": [
  {
   "cell_type": "code",
   "execution_count": 1,
   "metadata": {},
   "outputs": [],
   "source": [
    "import numpy as np\n",
    "import math"
   ]
  },
  {
   "cell_type": "markdown",
   "metadata": {},
   "source": [
    "#### Ligger op 2 stp"
   ]
  },
  {
   "cell_type": "markdown",
   "metadata": {},
   "source": [
    "##### Berekening natuurlijke frequentie"
   ]
  },
  {
   "cell_type": "code",
   "execution_count": 8,
   "metadata": {},
   "outputs": [],
   "source": [
    "[g_k, q_k] = [4.71, 1.85]\n",
    "psi2 = 0.3\n",
    "\n",
    "q = g_k + psi2 * q_k # [kN/m1]\n",
    "L = 5 # [m]"
   ]
  },
  {
   "cell_type": "code",
   "execution_count": 9,
   "metadata": {},
   "outputs": [
    {
     "data": {
      "text/plain": [
       "(536.697247706422, 1341.743119266055)"
      ]
     },
     "execution_count": 9,
     "metadata": {},
     "output_type": "execute_result"
    }
   ],
   "source": [
    "mu = q * 10**3 / 9.81\n",
    "m_mod = 0.5 * mu * L\n",
    "mu, m_mod"
   ]
  },
  {
   "cell_type": "code",
   "execution_count": 10,
   "metadata": {},
   "outputs": [
    {
     "data": {
      "text/plain": [
       "(10000000000, 0.0003413333333333333, 5.024899365977671)"
      ]
     },
     "execution_count": 10,
     "metadata": {},
     "output_type": "execute_result"
    }
   ],
   "source": [
    "E = 10000 * 10**6 # [N/m2]\n",
    "I_y = (1/12 * 1000 * 160**3) / 10**12 # [m4]\n",
    "f = 2/math.pi * (3 * E * I_y / (0.49 * mu * L**4) )**0.5\n",
    "E, I_y, f"
   ]
  },
  {
   "cell_type": "code",
   "execution_count": 11,
   "metadata": {},
   "outputs": [
    {
     "data": {
      "text/markdown": [
       "\n",
       "$\\begin{align*}\n",
       "&g_{k} & &= 4.71 \\ kN/m^{1}  & q_{k} &= 1.85 \\ kN/m^{1} \\\\\n",
       "&\\psi_{2} & &= 0.3 & l_{ov} &= 5.00 m \\\\\n",
       "&q_{E} & &= (g_{k} + \\psi_{2} \\cdot q_{k}) & &= 5.3 \\ kN/m^{1} \\\\\n",
       "\\\\\n",
       "&\\mu & &= q \\cdot g^{-1} & &= 537 \\ kg/m^{1} \\\\\n",
       "&m_{mod} &&= 0.5 \\cdot \\mu \\cdot \\ l_{ov} & &= 1342 \\ kg \\\\\n",
       "\\\\\n",
       "&E & &= 1.00e+10 \\ N/m^{-2} \\\\\n",
       "&I_{y} & &= 3.41e-04 \\ m^{4} \\\\\n",
       "&f_{e} & &=2/\\pi \\cdot (3 \\cdot E \\cdot I_{y}) / \\sqrt{0.49 \\cdot \\mu \\cdot l_{ov}^{4}} & &=  5.02 \\ Hz \\\\\n",
       "\\end{align*}$\n"
      ],
      "text/plain": [
       "<IPython.core.display.Markdown object>"
      ]
     },
     "execution_count": 11,
     "metadata": {},
     "output_type": "execute_result"
    }
   ],
   "source": [
    "from IPython.display import Markdown as md\n",
    "\n",
    "outp = \"\"\"\n",
    "$\\\\begin{align*}\n",
    "&g_{k} & &= %.2f \\ kN/m^{1}  & q_{k} &= %.2f \\ kN/m^{1} \\\\\\\\\n",
    "&\\psi_{2} & &= %.1f & l_{ov} &= %.2f m \\\\\\\\\n",
    "&q_{E} & &= (g_{k} + \\psi_{2} \\cdot q_{k}) & &= %.1f \\ kN/m^{1} \\\\\\\\\n",
    "\\\\\\\\\n",
    "&\\mu & &= q \\cdot g^{-1} & &= %.0f \\ kg/m^{1} \\\\\\\\\n",
    "&m_{mod} &&= 0.5 \\cdot \\mu \\cdot \\ l_{ov} & &= %.0f \\ kg \\\\\\\\\n",
    "\\\\\\\\\n",
    "&E & &= %.2e \\ N/m^{-2} \\\\\\\\\n",
    "&I_{y} & &= %.2e \\ m^{4} \\\\\\\\\n",
    "&f_{e} & &=2/\\pi \\cdot (3 \\cdot E \\cdot I_{y}) / \\sqrt{0.49 \\cdot \\mu \\cdot l_{ov}^{4}} & &=  %.2f \\ Hz \\\\\\\\\n",
    "\\\\end{align*}$\n",
    "\"\"\"%(g_k, q_k, psi2, L, q, mu, m_mod, E, I_y, f)\n",
    "\n",
    "md(outp)"
   ]
  },
  {
   "cell_type": "code",
   "execution_count": null,
   "metadata": {},
   "outputs": [],
   "source": []
  }
 ],
 "metadata": {
  "kernelspec": {
   "display_name": "Python 3",
   "language": "python",
   "name": "python3"
  },
  "language_info": {
   "codemirror_mode": {
    "name": "ipython",
    "version": 3
   },
   "file_extension": ".py",
   "mimetype": "text/x-python",
   "name": "python",
   "nbconvert_exporter": "python",
   "pygments_lexer": "ipython3",
   "version": "3.8.5"
  }
 },
 "nbformat": 4,
 "nbformat_minor": 4
}
