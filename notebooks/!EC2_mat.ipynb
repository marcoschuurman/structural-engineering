{
 "cells": [
  {
   "cell_type": "code",
   "execution_count": 3,
   "metadata": {},
   "outputs": [],
   "source": [
    "import math\n",
    "import numpy as np"
   ]
  },
  {
   "cell_type": "markdown",
   "metadata": {},
   "source": [
    "Materiaaleigenschappen beton:"
   ]
  },
  {
   "cell_type": "code",
   "execution_count": null,
   "metadata": {},
   "outputs": [],
   "source": [
    "eps_c_el = -1.75 * 10**-3\n",
    "eps_c_pl = -3.50 * 10**-3"
   ]
  },
  {
   "cell_type": "code",
   "execution_count": 9,
   "metadata": {},
   "outputs": [],
   "source": [
    "def c_prop(f_ck):\n",
    "    f_cm = f_ck + 8\n",
    "    \n",
    "    if f_ck <= 50:\n",
    "        f_ctm = 0.3 * f_ck**(2/3)\n",
    "    else:\n",
    "        f_ctm = 2.12 * math.log(1+(f_cm/10))\n",
    "\n",
    "    f_ctk = 0.7 * f_ctm\n",
    "        \n",
    "    E_cm = 22 * (f_cm/10)**0.3\n",
    "    \n",
    "    return f_cm, f_ctm, f_ctk, E_cm"
   ]
  },
  {
   "cell_type": "code",
   "execution_count": 11,
   "metadata": {},
   "outputs": [
    {
     "data": {
      "text/plain": [
       "(28, 2.2104188991842317, 1.547293229428962, 29.96195105464031)"
      ]
     },
     "execution_count": 11,
     "metadata": {},
     "output_type": "execute_result"
    }
   ],
   "source": [
    "[f_cm,f_ctm, f_ctk, E_cm] = c_prop(20)\n",
    "f_cm, f_ctm, f_ctk, E_cm"
   ]
  },
  {
   "cell_type": "code",
   "execution_count": 43,
   "metadata": {},
   "outputs": [],
   "source": [
    "def beta_cc(s,t): # t in dagen, s = 0.2/0.25/0.38 afh. van betonsamenstelling\n",
    "    beta_cc = np.exp(s*(1-(28/t)**0.5))\n",
    "    return beta_cc"
   ]
  },
  {
   "cell_type": "code",
   "execution_count": 6,
   "metadata": {},
   "outputs": [],
   "source": [
    "def alpha(t): # t in dagen\n",
    "    alpha = np.where(t<0,0,np.where(t<28,1,2/3))\n",
    "    return alpha"
   ]
  },
  {
   "cell_type": "markdown",
   "metadata": {},
   "source": [
    "Materiaaleigenschappen staal:"
   ]
  },
  {
   "cell_type": "code",
   "execution_count": 29,
   "metadata": {},
   "outputs": [],
   "source": [
    "f_yk = 500 # [MPa]\n",
    "f_tk = 1.08 * f_yk # [MPa]\n",
    "g_y = 1.15\n",
    "\n",
    "eps_s_el = +2.17 * 10**-3\n",
    "eps_s_pl = +5.00 * 10**-2"
   ]
  },
  {
   "cell_type": "code",
   "execution_count": 1,
   "metadata": {},
   "outputs": [],
   "source": [
    "def E_sd(es):\n",
    "    es = abs(es)\n",
    "    if (es >= 0) and (es <= eps_s_el):\n",
    "        f = es / eps_s_el * f_yk\n",
    "    elif (es > eps_s_el) and (es <= eps_s_pl):\n",
    "        f = f_yk + (es - eps_s_el) * (f_tk - f_yk) / (eps_s_pl - eps_s_el)\n",
    "    else:\n",
    "        f = 0\n",
    "    \n",
    "    #print(es)\n",
    "    E = f / (g_y * es)\n",
    "\n",
    "    return E"
   ]
  },
  {
   "cell_type": "code",
   "execution_count": null,
   "metadata": {},
   "outputs": [],
   "source": []
  }
 ],
 "metadata": {
  "kernelspec": {
   "display_name": "Python 3",
   "language": "python",
   "name": "python3"
  },
  "language_info": {
   "codemirror_mode": {
    "name": "ipython",
    "version": 3
   },
   "file_extension": ".py",
   "mimetype": "text/x-python",
   "name": "python",
   "nbconvert_exporter": "python",
   "pygments_lexer": "ipython3",
   "version": "3.7.7"
  }
 },
 "nbformat": 4,
 "nbformat_minor": 4
}
