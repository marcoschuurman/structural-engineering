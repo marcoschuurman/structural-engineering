{
 "cells": [
  {
   "cell_type": "code",
   "execution_count": 2,
   "metadata": {},
   "outputs": [],
   "source": [
    "import numpy as np\n",
    "import math\n",
    "from scipy.integrate import quad\n",
    "import matplotlib.pyplot as plt\n",
    "\n",
    "import pandas as pd"
   ]
  },
  {
   "cell_type": "markdown",
   "metadata": {},
   "source": [
    "Algemene constanten:"
   ]
  },
  {
   "cell_type": "code",
   "execution_count": 3,
   "metadata": {},
   "outputs": [],
   "source": [
    "wg = [\"I\", \"II\", \"III\"]\n",
    "vb0 = [29.5, 27, 24.5] # [m/s]\n",
    "K = [0.2, 0.234, 0.281]\n",
    "n = 0.5\n",
    "\n",
    "tc = [\"0\", \"II\", \"III\"]\n",
    "z0 = [0.005, 0.2, 0.5] # [m]\n",
    "zmin = [1, 4, 7] # [m]\n",
    "zmax = 200 # [m]\n",
    "rho = 1.25 # [kg/m3]"
   ]
  },
  {
   "cell_type": "markdown",
   "metadata": {},
   "source": [
    "Uitgangspunten:"
   ]
  },
  {
   "cell_type": "code",
   "execution_count": 4,
   "metadata": {},
   "outputs": [],
   "source": [
    "windgebied = \"II\"\n",
    "terrein = \"II\"\n",
    "\n",
    "B = 110 # [m]\n",
    "D = 23 # [m]\n",
    "H = 60 # [m] t.o.v. b.k. maaiveld\n",
    "\n",
    "gq = 1.5 # veiligheidsfactor wind\n",
    "cscd = 1 # Eventueel nog uit te breiden, afhankelijk van gebouwtype\n",
    "n2 = 1.2 # 2e orde factor"
   ]
  },
  {
   "cell_type": "code",
   "execution_count": 5,
   "metadata": {},
   "outputs": [],
   "source": [
    "wi = wg.index(windgebied)\n",
    "ti = tc.index(terrein)\n",
    "cdir = 1\n",
    "cseason = 1\n",
    "\n",
    "vb = cdir * cseason * vb0[wi] # [m/s]\n",
    "#qb = 0.5 * rho * vb**2 * 9.81 # [kN/m2]\n",
    "#vb\n",
    "\n",
    "#wi, ti"
   ]
  },
  {
   "cell_type": "markdown",
   "metadata": {},
   "source": [
    "Beschrijvende functies winddruk over de hoogte:"
   ]
  },
  {
   "cell_type": "code",
   "execution_count": 6,
   "metadata": {},
   "outputs": [],
   "source": [
    "kr = 0.19 * (z0[ti]/0.05)**0.07\n",
    "kI = 1\n",
    "co = 1\n",
    "\n",
    "def cr(z):\n",
    "    if z >= zmin[ti]:\n",
    "        cr = kr * math.log(z / z0[ti])\n",
    "    else:\n",
    "        cr = kr * math.log(zmin[ti] / z0[ti])\n",
    "    return cr\n",
    "\n",
    "def vm(z):\n",
    "    return cr(z) * co * vb\n",
    "\n",
    "def Iv(z):\n",
    "    if z >= zmin[ti]:\n",
    "        Iv = kI / (co * math.log(z / z0[ti]))\n",
    "    else:\n",
    "        Iv = kI / (co * math.log(zmin[ti] / z0[ti]))\n",
    "    return Iv\n",
    "\n",
    "def pp(z):\n",
    "    return (1 + 7 * Iv(z)) * 0.5 * rho * vm(z)**2 / 10**3 # [kN/m2]\n",
    "\n",
    "def we(z):\n",
    "    if (z >= 0 and z <= B) and (B <= H):\n",
    "        w = pp(B)\n",
    "    elif (z >= 0 and z <= B) and (B > H):\n",
    "        w = pp(H)\n",
    "    elif z > B and z < H-B:\n",
    "        w = pp(z)\n",
    "    elif z >= H-B and z <= H:\n",
    "        w = pp(H)\n",
    "    else:\n",
    "        w = pp(z)\n",
    "    return w"
   ]
  },
  {
   "cell_type": "markdown",
   "metadata": {},
   "source": [
    "Bepaling vormfactoren:"
   ]
  },
  {
   "cell_type": "code",
   "execution_count": 7,
   "metadata": {},
   "outputs": [
    {
     "data": {
      "text/plain": [
       "(2.608695652173913, 0.8, -0.5804347826086956, 0.9103260869565217)"
      ]
     },
     "execution_count": 7,
     "metadata": {},
     "output_type": "execute_result"
    }
   ],
   "source": [
    "r  = [0, 0.25, 1, 5, 100]\n",
    "cpe10_D = [0.7, 0.7, 0.8, 0.8, 0.8]\n",
    "cpe10_E = [-0.3, -0.3, -0.5, -0.7, -0.7]\n",
    "f_corr = [0.85, 0.85, 0.85, 1, 1]\n",
    "\n",
    "cpe10_D = np.interp(H/D, r, cpe10_D)\n",
    "cpe10_E = np.interp(H/D, r, cpe10_E)\n",
    "f_corr = np.interp(H/D, r, f_corr)\n",
    "cwr = 0.04\n",
    "\n",
    "H/D, cpe10_D, cpe10_E, f_corr"
   ]
  },
  {
   "cell_type": "markdown",
   "metadata": {},
   "source": [
    "Berekening snedekrachten over de hoogte:"
   ]
  },
  {
   "cell_type": "code",
   "execution_count": 8,
   "metadata": {},
   "outputs": [],
   "source": [
    "if D > min(2*B, 2*H):\n",
    "    Lwr = D - min(2*B, 2*H)\n",
    "else:\n",
    "    Lwr = 0\n",
    "\n",
    "def qk(z):        \n",
    "    return f_corr * B * (cpe10_D - cpe10_E) * we(z) + 2 * Lwr * cwr * we(z)\n",
    "\n",
    "def qki(z):\n",
    "    return qk(H - z)\n",
    "\n",
    "def Fk(z):\n",
    "    return B * Lwr * cwr * we(z)\n",
    "\n",
    "# Quad integratie functie werkt sinds een tijdje (sinds versie 3.7 van Python?) niet meer lekker \n",
    "# op verschillende q-lasten, waarschijnlijk doordat q een gebroken functiedefinitie kent.\n",
    "# Dit is voor nu opgelost door de windbelasting naar puntlasten op de verdiepingen te vertalen, zie verderop.\n",
    "\n",
    "#def Vk(z):\n",
    "#    return (quad(qki, 0, H - z)[0] + Fk(H)) * n2 * cscd\n",
    "\n",
    "#def Vki(z):\n",
    "#    return Vk(H - z)\n",
    "\n",
    "#def VEd(z):\n",
    "#    return Vk(z) * gq\n",
    "\n",
    "#def Mk(z):\n",
    "#    return quad(Vki, 0, H-z)[0]\n",
    "\n",
    "#def MEd(z):\n",
    "#    return Mk(z) * gq"
   ]
  },
  {
   "cell_type": "markdown",
   "metadata": {},
   "source": [
    "#### Bepaling lijn-puntlasten voor bijv. FEM rekenmodellen"
   ]
  },
  {
   "cell_type": "code",
   "execution_count": 9,
   "metadata": {},
   "outputs": [
    {
     "data": {
      "text/plain": [
       "(array([2.7 , 2.7 , 4.25, 4.25, 3.85, 3.85, 3.85, 3.85, 3.85, 3.85, 3.85,\n",
       "        4.35, 3.1 , 3.1 , 3.1 , 3.1 , 3.1 , 4.  ]),\n",
       " array([ 0.,  0., 63., 63., 63., 63., 63., 63., 63., 63., 63., 63., 63.,\n",
       "        63., 63., 63., 63., 63.]))"
      ]
     },
     "execution_count": 9,
     "metadata": {},
     "output_type": "execute_result"
    }
   ],
   "source": [
    "#Automatiseren verdiepinghoogtes\n",
    "nh = [2, 2, 7, 1, 5, 1] # aantal lagen met gelijke hoogte\n",
    "dh = [2.7, 4.25, 3.85, 4.35, 3.1, 4] # repetitieve gebouwlaaghoogte (in dit geval boven de 1e verdieping)\n",
    "\n",
    "hv = []\n",
    "for i in range(len(nh)):\n",
    "    for k in range(nh[i]):\n",
    "        hv = np.append(hv, dh[i])\n",
    "\n",
    "#Automatiseren verdiepingsbreedtes\n",
    "nb = [2, 16]\n",
    "db = [0, 63]\n",
    "\n",
    "bv = []\n",
    "for i in range(len(nb)):\n",
    "    for k in range(nb[i]):\n",
    "        bv = np.append(bv, db[i])\n",
    "\n",
    "h_mv = 5.4 # hoogte m.v. t.o.v. laagste niveau\n",
    "\n",
    "if len(bv) is not len(hv):\n",
    "    print(\"b en h arrays niet even groot; dit is wel noodzakelijk voor een goede werking!\")\n",
    "    print(str(len(bv)) + \" / \" + str(len(hv)))\n",
    "\n",
    "hv, bv"
   ]
  },
  {
   "cell_type": "code",
   "execution_count": 10,
   "metadata": {},
   "outputs": [],
   "source": [
    "lvl = []\n",
    "z_strip = []\n",
    "h_strip = []\n",
    "wz = []\n",
    "\n",
    "for i in range(len(hv)):\n",
    "    if i == 0:\n",
    "        niv = 0\n",
    "        zs = hv[i] - h_mv\n",
    "    else:\n",
    "        niv = lvl[i-1] + hv[i-1]\n",
    "        zs = z_strip[i-1] + hv[i]\n",
    "    hs = niv + 0.5*hv[i]\n",
    "    lvl = np.append(lvl, niv)\n",
    "    z_strip = np.append(z_strip, zs)\n",
    "    h_strip = np.append(h_strip, hs)\n",
    "    wz = np.append(wz, we(z_strip[i]))\n",
    "\n",
    "lvl = np.append(lvl, lvl[i] + hv[i])\n",
    "\n",
    "qp = []\n",
    "wn = []\n",
    "\n",
    "for i in range(len(lvl)):\n",
    "    qp = np.append(qp, pp(lvl[i] - h_mv))\n",
    "    wn = np.append(wn, we(lvl[i]))"
   ]
  },
  {
   "cell_type": "code",
   "execution_count": 11,
   "metadata": {},
   "outputs": [],
   "source": [
    "p_D = np.around(cpe10_D * n2 * wz, 2)\n",
    "p_E = np.around(cpe10_E * n2 * wz, 2)\n",
    "\n",
    "F_D = np.around(bv * hv * p_D, 1)\n",
    "F_E = np.around(bv * hv * p_E, 1)"
   ]
  },
  {
   "cell_type": "code",
   "execution_count": 12,
   "metadata": {},
   "outputs": [],
   "source": [
    "F_o = []\n",
    "F_b = []\n",
    "q_o = []\n",
    "q_b = []\n",
    "\n",
    "for i in range(len(lvl)):\n",
    "    if i == 0:\n",
    "        Fo = 0\n",
    "        Fb = 0.5 * (F_D[i] - F_E[i])\n",
    "        qo = 0\n",
    "        qb = 0 if (Fb == 0) else Fb / bv[i]\n",
    "    elif i == len(lvl) - 1:\n",
    "        Fo = 0.5 * (F_D[i-1] - F_E[i-1])\n",
    "        Fb = 0\n",
    "        qo = 0 if (Fo == 0) else Fo / bv[i-1]\n",
    "        qb = 0\n",
    "    else:\n",
    "        Fo = 0.5 * (F_D[i-1] - F_E[i-1])\n",
    "        Fb = 0.5 * (F_D[i] - F_E[i])\n",
    "        qo = 0 if (Fo == 0) else Fo / bv[i-1]\n",
    "        qb = 0 if (Fb == 0) else Fb / bv[i]\n",
    "    \n",
    "    F_o = np.append(F_o, Fo)\n",
    "    F_b = np.append(F_b, Fb)\n",
    "    q_o = np.append(q_o, qo)\n",
    "    q_b = np.append(q_b, qb)\n",
    "\n",
    "F = F_o + F_b\n",
    "q = q_o + q_b\n",
    "qDo = cpe10_D / (cpe10_D - cpe10_E) * q_o\n",
    "qDb = cpe10_D / (cpe10_D - cpe10_E) * q_b\n",
    "qEo = q_o - qDo\n",
    "qEb = q_b - qDb"
   ]
  },
  {
   "cell_type": "code",
   "execution_count": 13,
   "metadata": {},
   "outputs": [],
   "source": [
    "FEd = np.around(gq * f_corr * F, 1)\n",
    "hv_ = np.append(hv, 0)\n",
    "\n",
    "from scipy.ndimage.interpolation import shift\n",
    "VEd = np.around(np.cumsum(FEd[::-1])[::-1], 1)\n",
    "MEd = np.around(np.cumsum(np.append(VEd[1:], 0)[::-1] * hv_[::-1])[::-1], 1)\n",
    "# [::-1] keert een array om; dit is nodig om de dwarskracht van boven naar beneden op te tellen\n",
    "# (en idem voor het cumulatief moment)"
   ]
  },
  {
   "cell_type": "code",
   "execution_count": 14,
   "metadata": {},
   "outputs": [],
   "source": [
    "qD = np.around(qDo + qDb, 2)\n",
    "qE = -np.around(qEo + qEb, 2)\n",
    "q = np.around((qD - qE) * f_corr,2)\n",
    "\n",
    "df = pd.DataFrame([lvl - h_mv, bv, np.around(wz,2), qD, \\\n",
    "                   qE, q, np.around(VEd,0), np.around(MEd,0)]).T\n",
    "df.columns = ['$h_{niv}$', '$$b_{wind}^{\\ (1)}$$', '$$w_{z}(z_{strip})^{\\ (1)}$$', '$$q_{D,max}^{\\ (2)}$$', \\\n",
    "              '$$q_{E,max}^{\\ (2)}$$', '$$q_{tot}^{\\ (3)}$$','$V_{Ed}$', '$M_{Ed}$']\n",
    "\n",
    "df = df.iloc[::-1]"
   ]
  },
  {
   "cell_type": "code",
   "execution_count": 15,
   "metadata": {},
   "outputs": [],
   "source": [
    "from IPython.display import Markdown as md\n",
    "\n",
    "outp = \"\"\"\n",
    "$\\\\begin{align*}\n",
    "&H & &= \\ %.2f \\ m & & (t.b.v. \\ bepaling \\ extreme \\ stuwdruk) \\\\\\\\\n",
    "&D & &= \\ %.2f \\ m & & (t.b.v. \\ bepaling \\ drukfactoren) \\\\\\\\\n",
    "&c_{pe,D} & &= \\ + %.2f \\\\\\\\\n",
    "&c_{pe,E} & &= \\ %.2f \\\\\\\\\n",
    "\\\\\\\\\n",
    "&f_{corr,D+E} & &= \\ %.2f \\\\\\\\\n",
    "&n/(n-1) & &= \\ %.2f \\\\\\\\\n",
    "&g_{q} & &= \\ %.2f \\\\\\\\\n",
    "\\\\end{align*}$\n",
    "\"\"\"%(H, D, cpe10_D, cpe10_E, f_corr, n2, gq)"
   ]
  },
  {
   "cell_type": "code",
   "execution_count": 16,
   "metadata": {},
   "outputs": [
    {
     "data": {
      "text/markdown": [
       "\n",
       "$\\begin{align*}\n",
       "&H & &= \\ 60.00 \\ m & & (t.b.v. \\ bepaling \\ extreme \\ stuwdruk) \\\\\n",
       "&D & &= \\ 23.00 \\ m & & (t.b.v. \\ bepaling \\ drukfactoren) \\\\\n",
       "&c_{pe,D} & &= \\ + 0.80 \\\\\n",
       "&c_{pe,E} & &= \\ -0.58 \\\\\n",
       "\\\\\n",
       "&f_{corr,D+E} & &= \\ 0.91 \\\\\n",
       "&n/(n-1) & &= \\ 1.20 \\\\\n",
       "&g_{q} & &= \\ 1.50 \\\\\n",
       "\\end{align*}$\n"
      ],
      "text/plain": [
       "<IPython.core.display.Markdown object>"
      ]
     },
     "execution_count": 16,
     "metadata": {},
     "output_type": "execute_result"
    }
   ],
   "source": [
    "md(outp)"
   ]
  },
  {
   "cell_type": "code",
   "execution_count": 17,
   "metadata": {},
   "outputs": [
    {
     "data": {
      "text/html": [
       "<table border=\"1\" class=\"dataframe\">\n",
       "  <thead>\n",
       "    <tr style=\"text-align: right;\">\n",
       "      <th>$h_{niv}$</th>\n",
       "      <th>$$b_{wind}^{\\ (1)}$$</th>\n",
       "      <th>$$w_{z}(z_{strip})^{\\ (1)}$$</th>\n",
       "      <th>$$q_{D,max}^{\\ (2)}$$</th>\n",
       "      <th>$$q_{E,max}^{\\ (2)}$$</th>\n",
       "      <th>$$q_{tot}^{\\ (3)}$$</th>\n",
       "      <th>$V_{Ed}$</th>\n",
       "      <th>$M_{Ed}$</th>\n",
       "    </tr>\n",
       "  </thead>\n",
       "  <tbody>\n",
       "    <tr>\n",
       "      <td>59.30</td>\n",
       "      <td>NaN</td>\n",
       "      <td>NaN</td>\n",
       "      <td>2.78</td>\n",
       "      <td>-2.02</td>\n",
       "      <td>4.37</td>\n",
       "      <td>413.0</td>\n",
       "      <td>0.0</td>\n",
       "    </tr>\n",
       "    <tr>\n",
       "      <td>55.30</td>\n",
       "      <td>63.0</td>\n",
       "      <td>1.45</td>\n",
       "      <td>4.94</td>\n",
       "      <td>-3.58</td>\n",
       "      <td>7.76</td>\n",
       "      <td>1146.0</td>\n",
       "      <td>1652.0</td>\n",
       "    </tr>\n",
       "    <tr>\n",
       "      <td>52.20</td>\n",
       "      <td>63.0</td>\n",
       "      <td>1.45</td>\n",
       "      <td>4.31</td>\n",
       "      <td>-3.13</td>\n",
       "      <td>6.77</td>\n",
       "      <td>1786.0</td>\n",
       "      <td>5204.0</td>\n",
       "    </tr>\n",
       "    <tr>\n",
       "      <td>49.10</td>\n",
       "      <td>63.0</td>\n",
       "      <td>1.45</td>\n",
       "      <td>4.31</td>\n",
       "      <td>-3.13</td>\n",
       "      <td>6.77</td>\n",
       "      <td>2426.0</td>\n",
       "      <td>10740.0</td>\n",
       "    </tr>\n",
       "    <tr>\n",
       "      <td>46.00</td>\n",
       "      <td>63.0</td>\n",
       "      <td>1.45</td>\n",
       "      <td>4.31</td>\n",
       "      <td>-3.13</td>\n",
       "      <td>6.77</td>\n",
       "      <td>3066.0</td>\n",
       "      <td>18261.0</td>\n",
       "    </tr>\n",
       "    <tr>\n",
       "      <td>42.90</td>\n",
       "      <td>63.0</td>\n",
       "      <td>1.45</td>\n",
       "      <td>4.31</td>\n",
       "      <td>-3.13</td>\n",
       "      <td>6.77</td>\n",
       "      <td>3706.0</td>\n",
       "      <td>27767.0</td>\n",
       "    </tr>\n",
       "    <tr>\n",
       "      <td>39.80</td>\n",
       "      <td>63.0</td>\n",
       "      <td>1.45</td>\n",
       "      <td>5.18</td>\n",
       "      <td>-3.76</td>\n",
       "      <td>8.14</td>\n",
       "      <td>4475.0</td>\n",
       "      <td>39256.0</td>\n",
       "    </tr>\n",
       "    <tr>\n",
       "      <td>35.45</td>\n",
       "      <td>63.0</td>\n",
       "      <td>1.45</td>\n",
       "      <td>5.70</td>\n",
       "      <td>-4.14</td>\n",
       "      <td>8.96</td>\n",
       "      <td>5322.0</td>\n",
       "      <td>58724.0</td>\n",
       "    </tr>\n",
       "    <tr>\n",
       "      <td>31.60</td>\n",
       "      <td>63.0</td>\n",
       "      <td>1.45</td>\n",
       "      <td>5.35</td>\n",
       "      <td>-3.89</td>\n",
       "      <td>8.41</td>\n",
       "      <td>6117.0</td>\n",
       "      <td>79214.0</td>\n",
       "    </tr>\n",
       "    <tr>\n",
       "      <td>27.75</td>\n",
       "      <td>63.0</td>\n",
       "      <td>1.45</td>\n",
       "      <td>5.35</td>\n",
       "      <td>-3.89</td>\n",
       "      <td>8.41</td>\n",
       "      <td>6912.0</td>\n",
       "      <td>102763.0</td>\n",
       "    </tr>\n",
       "    <tr>\n",
       "      <td>23.90</td>\n",
       "      <td>63.0</td>\n",
       "      <td>1.45</td>\n",
       "      <td>5.35</td>\n",
       "      <td>-3.89</td>\n",
       "      <td>8.41</td>\n",
       "      <td>7707.0</td>\n",
       "      <td>129373.0</td>\n",
       "    </tr>\n",
       "    <tr>\n",
       "      <td>20.05</td>\n",
       "      <td>63.0</td>\n",
       "      <td>1.45</td>\n",
       "      <td>5.35</td>\n",
       "      <td>-3.89</td>\n",
       "      <td>8.41</td>\n",
       "      <td>8502.0</td>\n",
       "      <td>159044.0</td>\n",
       "    </tr>\n",
       "    <tr>\n",
       "      <td>16.20</td>\n",
       "      <td>63.0</td>\n",
       "      <td>1.45</td>\n",
       "      <td>5.35</td>\n",
       "      <td>-3.89</td>\n",
       "      <td>8.41</td>\n",
       "      <td>9296.0</td>\n",
       "      <td>191774.0</td>\n",
       "    </tr>\n",
       "    <tr>\n",
       "      <td>12.35</td>\n",
       "      <td>63.0</td>\n",
       "      <td>1.45</td>\n",
       "      <td>5.35</td>\n",
       "      <td>-3.89</td>\n",
       "      <td>8.41</td>\n",
       "      <td>10091.0</td>\n",
       "      <td>227566.0</td>\n",
       "    </tr>\n",
       "    <tr>\n",
       "      <td>8.50</td>\n",
       "      <td>63.0</td>\n",
       "      <td>1.45</td>\n",
       "      <td>5.63</td>\n",
       "      <td>-4.09</td>\n",
       "      <td>8.85</td>\n",
       "      <td>10928.0</td>\n",
       "      <td>266417.0</td>\n",
       "    </tr>\n",
       "    <tr>\n",
       "      <td>4.25</td>\n",
       "      <td>63.0</td>\n",
       "      <td>1.45</td>\n",
       "      <td>5.91</td>\n",
       "      <td>-4.29</td>\n",
       "      <td>9.29</td>\n",
       "      <td>11805.0</td>\n",
       "      <td>312859.0</td>\n",
       "    </tr>\n",
       "    <tr>\n",
       "      <td>0.00</td>\n",
       "      <td>63.0</td>\n",
       "      <td>1.45</td>\n",
       "      <td>2.96</td>\n",
       "      <td>-2.14</td>\n",
       "      <td>4.64</td>\n",
       "      <td>12244.0</td>\n",
       "      <td>363030.0</td>\n",
       "    </tr>\n",
       "    <tr>\n",
       "      <td>-2.70</td>\n",
       "      <td>0.0</td>\n",
       "      <td>1.45</td>\n",
       "      <td>0.00</td>\n",
       "      <td>-0.00</td>\n",
       "      <td>0.00</td>\n",
       "      <td>12244.0</td>\n",
       "      <td>396088.0</td>\n",
       "    </tr>\n",
       "    <tr>\n",
       "      <td>-5.40</td>\n",
       "      <td>0.0</td>\n",
       "      <td>1.45</td>\n",
       "      <td>0.00</td>\n",
       "      <td>-0.00</td>\n",
       "      <td>0.00</td>\n",
       "      <td>12244.0</td>\n",
       "      <td>429146.0</td>\n",
       "    </tr>\n",
       "  </tbody>\n",
       "</table>"
      ],
      "text/plain": [
       "<IPython.core.display.HTML object>"
      ]
     },
     "execution_count": 17,
     "metadata": {},
     "output_type": "execute_result"
    }
   ],
   "source": [
    "from IPython.display import HTML\n",
    "HTML(df.to_html(index=False))"
   ]
  },
  {
   "cell_type": "markdown",
   "metadata": {},
   "source": [
    "<font size=1>\n",
    "    <sup>(1)</sup> = waarde <u>boven</u> gegeven niveau; overige waarden zijn <i>ter hoogte van</i> het betreffende niveau\n",
    "    </br>\n",
    "    <sup>(2)</sup> = maximale waarde (dus gevel boven & onder het betreffende niveau)\n",
    "    </br>\n",
    "    <sup>(3)</sup> = $(q_{D,max} + q_{E,max}) \\ \\cdot \\ f_{corr,D+E}$ (representatief)\n",
    "</font>\n",
    "</br></br>"
   ]
  },
  {
   "cell_type": "code",
   "execution_count": 18,
   "metadata": {},
   "outputs": [
    {
     "data": {
      "image/png": "[encoded data removed]",
      "text/plain": [
       "<Figure size 1594.49x590.551 with 3 Axes>"
      ]
     },
     "metadata": {
      "needs_background": "light"
     },
     "output_type": "display_data"
    }
   ],
   "source": [
    "plotsize = (27/2.54,10/2.54) #afmeting in inches\n",
    "plot_dpi = 150\n",
    "font = {'weight' : 'normal',\n",
    "        'size'   : 6}\n",
    "\n",
    "plt.rc('font', **font)\n",
    "fig, ax = plt.subplots(1, 3, figsize=plotsize, dpi=plot_dpi)\n",
    "\n",
    "z = lvl - h_mv\n",
    "\n",
    "x = [wn, VEd, MEd]\n",
    "\n",
    "if B < H:\n",
    "    ax[0].axhline(y=B, linestyle = ':', color=\"r\", linewidth=0.5)\n",
    "    ax[0].annotate(xy=[0, B], textcoords=\"offset points\", xytext=(2,2), fontsize=5, color='r', s='z = B')\n",
    "\n",
    "if H - B > B:\n",
    "    ax[0].axhline(y=H-B, linestyle = ':', color=\"r\", linewidth=0.5)\n",
    "    ax[0].annotate(xy=[0, H-B], textcoords=\"offset points\", xytext=(2,2), fontsize=5, color='r', s='z = H-B')\n",
    "\n",
    "ax[0].plot(qp, z, color='green', marker='o', markersize=1, linewidth=0.5, linestyle='dotted', label='$q_{p}(z)$')\n",
    "ax[0].plot(wn, z, color='red', marker='o', markersize=1, linewidth=0.5, label='$w_{e}(z)$')\n",
    "ax[1].plot(VEd, z, color='red', marker='o', markersize=1, linewidth=0.5, label='$V_{Ed}$')\n",
    "ax[2].plot(MEd, z, color='red', marker='o', markersize=1, linewidth=0.5, label='$M_{Ed}$')\n",
    "\n",
    "ax[0].set_xlabel('$p \\ [kN/m^{1}]$', fontsize=6)\n",
    "ax[1].set_xlabel('$V \\ [kN]$', fontsize=6)\n",
    "ax[2].set_xlabel('$M \\ [kNm]$', fontsize=6)\n",
    "\n",
    "ax[0].legend(loc = 'upper left')\n",
    "ax[1].legend(loc = 'upper right')\n",
    "ax[2].legend(loc = 'upper right')\n",
    "\n",
    "for i in range(len(z)):\n",
    "    ax[0].annotate(np.around(qp[i],2), (qp[i], z[i]), textcoords=\"offset points\", xytext=(-2,2), va = 'bottom', ha='right', fontsize=6, color='green')\n",
    "    ax[0].annotate(np.around(wn[i],2), (wn[i], z[i]), textcoords=\"offset points\", xytext=(2,2), va = 'bottom', ha='left', fontsize=6, color='red')\n",
    "    ax[1].annotate(np.around(int(VEd[i]),2), (VEd[i], z[i]), textcoords=\"offset points\", xytext=(2,2), va = 'bottom', ha='left', fontsize=6, color='red')\n",
    "    ax[2].annotate(np.around(int(MEd[i]),2), (MEd[i], z[i]), textcoords=\"offset points\", xytext=(2,2), va = 'bottom', ha='left', fontsize=6, color='red')\n",
    "\n",
    "for i in range(len(ax)):\n",
    "    ax[i].set_xlim(0, max(x[i]) * 1.25)\n",
    "    ax[i].grid(True, which='both', linewidth=0.5, linestyle='dotted')\n",
    "    for j in ['left','bottom']:\n",
    "        ax[i].spines[j].set_color('none')\n",
    "    for j in ['top', 'right']:\n",
    "        ax[i].spines[j].set_linewidth(0.5)\n",
    "        ax[i].spines[j].set_position('zero')\n",
    "\n",
    "plt.show()"
   ]
  },
  {
   "cell_type": "markdown",
   "metadata": {},
   "source": [
    "#### Test vervormingen"
   ]
  },
  {
   "cell_type": "code",
   "execution_count": 19,
   "metadata": {},
   "outputs": [],
   "source": [
    "E = 15 # GPa\n",
    "nu = 0.2\n",
    "G = E / (2 * (1 + nu))\n",
    "\n",
    "Iy = 161 + 52 # [m^4]\n",
    "Av = 6.6 + 4.0\n",
    "\n",
    "Mk = MEd / gq\n",
    "Vk = VEd / gq"
   ]
  },
  {
   "cell_type": "code",
   "execution_count": 20,
   "metadata": {},
   "outputs": [
    {
     "name": "stdout",
     "output_type": "stream",
     "text": [
      "[ 0.          0.65067092  1.90384204  4.95806864  9.15624647 13.80009873\n",
      " 19.11855921 25.00093117 31.34598311 38.06194872 45.06652708 52.28688247\n",
      " 60.6255527  66.64393869 72.698698   78.77077065 84.84507559 90.91051073\n",
      " 98.71288073]\n"
     ]
    }
   ],
   "source": [
    "phi = []\n",
    "ux = []\n",
    "\n",
    "for i in range(len(lvl)):\n",
    "    if i == 0:\n",
    "        phi_ = 0\n",
    "        ux_ = 0\n",
    "    else:\n",
    "        phi_0 = phi[i-1]\n",
    "        phi_M = Mk[i] * hv[i-1] / (E * Iy * 10**6)\n",
    "        phi_F = Vk[i] * hv[i-1]**2 / (2 * E * Iy * 10**6)\n",
    "        \n",
    "        ux_0 = ux[i-1]\n",
    "        ux_phi = phi[i-1] * hv[i-1]\n",
    "        ux_M_u = Mk[i] * hv[i-1]**2 / (2 * E * Iy * 10**6)\n",
    "        ux_F_u = Vk[i] * hv[i-1]**3 / (3 * E * Iy * 10**6)\n",
    "        ux_V_u = Vk[i] * hv[i-1] / (G * Av * 10**6)\n",
    "        \n",
    "        phi_ = phi_0 + phi_M + phi_F\n",
    "        ux_ = ux_0 + ux_phi + ux_M_u + ux_F_u + ux_V_u\n",
    "    phi = np.append(phi, phi_)\n",
    "    ux = np.append(ux, ux_)\n",
    "\n",
    "print(ux * 10**3)"
   ]
  }
 ],
 "metadata": {
  "kernelspec": {
   "display_name": "Python 3",
   "language": "python",
   "name": "python3"
  },
  "language_info": {
   "codemirror_mode": {
    "name": "ipython",
    "version": 3
   },
   "file_extension": ".py",
   "mimetype": "text/x-python",
   "name": "python",
   "nbconvert_exporter": "python",
   "pygments_lexer": "ipython3",
   "version": "3.7.7"
  }
 },
 "nbformat": 4,
 "nbformat_minor": 4
}
